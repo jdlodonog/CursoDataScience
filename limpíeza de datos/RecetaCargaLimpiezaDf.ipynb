{
 "cells": [
  {
   "attachments": {},
   "cell_type": "markdown",
   "metadata": {},
   "source": [
    "<h3> Reseta de cocina limpieza de datos</h3>"
   ]
  },
  {
   "attachments": {},
   "cell_type": "markdown",
   "metadata": {},
   "source": [
    "<h4>Lectura de datos </h4>"
   ]
  },
  {
   "cell_type": "code",
   "execution_count": null,
   "metadata": {},
   "outputs": [],
   "source": [
    "#descargar archivos desde url y almacenarlos en carpeta local\n",
    "#decode de string binario a utf-8\n",
    "#split('\\n') divide el string completo por filas\n",
    "\n",
    "import urllib.request as request\n",
    "import csv\n",
    "r = request.urlopen('https://raw.githubusercontent.com/jdvelasq/datalabs/master/datasets/drivers/truck_event_text_partition.csv').read().decode('utf8').split(\"\\n\")\n",
    "reader = csv.reader(r)"
   ]
  },
  {
   "cell_type": "code",
   "execution_count": null,
   "metadata": {},
   "outputs": [],
   "source": [
    "#otra manera e importar los archgivos desde internet\n",
    "import pandas as pd\n",
    "df = pd.read_csv('https://raw.githubusercontent.com/jdvelasq/datalabs/master/datasets/drivers/truck_event_text_partition.csv',index_col=0)\n",
    "df.to_csv('truck_event_text_partition.csv')"
   ]
  },
  {
   "attachments": {},
   "cell_type": "markdown",
   "metadata": {},
   "source": [
    "<h4> lectura de datos  </h4>\n"
   ]
  },
  {
   "cell_type": "code",
   "execution_count": null,
   "metadata": {},
   "outputs": [],
   "source": [
    "with open(\"truck_event_text_partition.csv\", \"r\") as file:\n",
    "    truck_events = file.readlines()\n",
    "\n",
    "#\n",
    "# Cantidad de filas del archivo incluyendo la cabecera.\n",
    "#\n",
    "len(truck_events)"
   ]
  },
  {
   "cell_type": "code",
   "execution_count": null,
   "metadata": {},
   "outputs": [],
   "source": [
    "#lectura primera fila\n",
    "col_names=lines[0]"
   ]
  },
  {
   "attachments": {},
   "cell_type": "markdown",
   "metadata": {},
   "source": [
    "#"
   ]
  }
 ],
 "metadata": {
  "language_info": {
   "name": "python"
  },
  "orig_nbformat": 4
 },
 "nbformat": 4,
 "nbformat_minor": 2
}
