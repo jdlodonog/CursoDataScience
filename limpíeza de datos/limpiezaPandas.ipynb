{
 "cells": [
  {
   "cell_type": "code",
   "execution_count": null,
   "metadata": {},
   "outputs": [],
   "source": [
    "import pandas as pd \n",
    "import numpy as np\n",
    "import os"
   ]
  },
  {
   "cell_type": "code",
   "execution_count": null,
   "metadata": {},
   "outputs": [],
   "source": [
    "data=pd.read_csv(\"/home/juan/Documentos/DATA SCIENCE/python-ml-course-master/datasets/titanic/titanic3.csv\")#colocar la direccion donde se va alojar el fichero\n",
    "data.head()"
   ]
  },
  {
   "cell_type": "code",
   "execution_count": null,
   "metadata": {},
   "outputs": [],
   "source": [
    "mainpath=\"/home/juan/Documentos/DATA SCIENCE/python-ml-course-master/datasets/\"\n",
    "filename=\"titanic/titanic3.csv\"\n",
    "fullpath=os.path.join(mainpath, filename)\n",
    "data=pd.read_csv(fullpath)\n"
   ]
  },
  {
   "attachments": {},
   "cell_type": "markdown",
   "metadata": {},
   "source": [
    "<h3>Ejemplos de parametrs read_csv()</h3>\n",
    "header=None especifica que no se tomara cabecera para nombres de columnas o se puede especificar la linea de la cual se tomara el encabezado, \n",
    "names permite especificar los nombres de las columnas como array olista\n",
    "skiprows=12 salta primera 12 lineas\n",
    "index_col indica numericamente cualkes \n",
    "skip_blank_lines=True) salta lineas en blancao en vez de colocar none o nan\n",
    "na_filter=True detecta los marcadores de valores que falten y los elimina del data set todeas aquellas filas que tengas valores vacios\n",
    "data=pd.read.csv(filepath=\"/home/juan/Documentos/DATA SCIENCE/python-ml-course-master/datasets/titanic/titanic3.csv\",\n",
    "                 sep=',', dtype={'ingresos':np.float64, 'edad':np.int32},header=0),names={'ingresos','edad'},\n",
    "skiprows=12, index_col=None, skip_blank_lines=True, na_filter=True)"
   ]
  },
  {
   "cell_type": "code",
   "execution_count": null,
   "metadata": {},
   "outputs": [],
   "source": [
    "mainpath=\"/home/juan/Documentos/DATA SCIENCE/python-ml-course-master/datasets/\"\n",
    "filename=\"titanic/titanic3.csv\"\n",
    "fullpath=os.path.join(mainpath, filename)\n",
    "data=pd.read_csv(fullpath)\n"
   ]
  },
  {
   "cell_type": "code",
   "execution_count": null,
   "metadata": {},
   "outputs": [],
   "source": [
    "#carga de otros datos haciendo usod de filename\n",
    "filename2=\"customer-churn-model/Customer Churn Model.txt\"\n",
    "fullpath=os.path.join(mainpath, filename2)\n",
    "data=pd.read_csv(fullpath)\n",
    "data.head()"
   ]
  },
  {
   "cell_type": "code",
   "execution_count": null,
   "metadata": {},
   "outputs": [],
   "source": [
    "data_cols=pd.read_csv(mainpath+'/'+'customer-churn-model/Customer Churn Model.csv')\n",
    "data_cols.columns.values\n"
   ]
  },
  {
   "cell_type": "code",
   "execution_count": null,
   "metadata": {},
   "outputs": [],
   "source": [
    "data_cols_list=data_cols['Column_Names'].tolist()\n",
    "\n",
    "data.columns.values"
   ]
  },
  {
   "cell_type": "code",
   "execution_count": null,
   "metadata": {},
   "outputs": [],
   "source": [
    "data_cols=pd.read_csv(mainpath +'/'+ 'customer-churn-model/Customer Churn Columns.csv')\n",
    "data_cols_list=data_cols['Column_Names'].tolist()\n",
    "data_cols_list\n",
    "data2=pd.read_csv(mainpath +'/'+ 'customer-churn-model/Customer Churn Model.csv', header = None, names = data_cols_list)\n",
    "data2.columns.values\n"
   ]
  },
  {
   "attachments": {},
   "cell_type": "markdown",
   "metadata": {},
   "source": [
    "<h3>Carga de datos con  open</h3>\n",
    "NOta: pandas carga todo al tiempo, para datos muy grnades consumiria toda la memoria\n",
    "en open lee linea por linea"
   ]
  },
  {
   "attachments": {},
   "cell_type": "markdown",
   "metadata": {},
   "source": []
  },
  {
   "attachments": {},
   "cell_type": "markdown",
   "metadata": {},
   "source": [
    "<h3>Carga de datos con  url</h3>"
   ]
  },
  {
   "cell_type": "code",
   "execution_count": 3,
   "metadata": {},
   "outputs": [],
   "source": [
    "#descargar archivos desde url y almacenarlos en carpeta local\n",
    "import urllib.request as request\n",
    "import csv\n",
    "r = request.urlopen('https://raw.githubusercontent.com/jdvelasq/datalabs/master/datasets/drivers/truck_event_text_partition.csv').read().decode('utf8').split(\"\\n\")\n",
    "reader = csv.reader(r)"
   ]
  },
  {
   "cell_type": "code",
   "execution_count": 4,
   "metadata": {},
   "outputs": [
    {
     "name": "stdout",
     "output_type": "stream",
     "text": [
      "^C\n"
     ]
    }
   ],
   "source": [
    "#\n",
    "url = \"https://raw.githubusercontent.com/jdvelasq/datalabs/master/datasets/drivers/truck_event_text_partition.csv\"\n",
    "!wget --quiet {url} -P /tmp/\n"
   ]
  },
  {
   "cell_type": "code",
   "execution_count": 6,
   "metadata": {},
   "outputs": [
    {
     "data": {
      "text/plain": [
       "17076"
      ]
     },
     "execution_count": 6,
     "metadata": {},
     "output_type": "execute_result"
    }
   ],
   "source": [
    "with open(\"truck_event_text_partition.csv\", \"r\") as file:\n",
    "    truck_events = file.readlines()\n",
    "\n",
    "#\n",
    "# Cantidad de filas del archivo incluyendo la cabecera.\n",
    "#\n",
    "len(truck_events)"
   ]
  },
  {
   "cell_type": "code",
   "execution_count": 2,
   "metadata": {},
   "outputs": [],
   "source": [
    "#otra manera e importar los archgivos desde internet\n",
    "import pandas as pd\n",
    "df = pd.read_csv('https://raw.githubusercontent.com/jdvelasq/datalabs/master/datasets/drivers/truck_event_text_partition.csv',index_col=0)\n",
    "df.to_csv('truck_event_text_partition.csv')"
   ]
  }
 ],
 "metadata": {
  "kernelspec": {
   "display_name": "base",
   "language": "python",
   "name": "python3"
  },
  "language_info": {
   "codemirror_mode": {
    "name": "ipython",
    "version": 3
   },
   "file_extension": ".py",
   "mimetype": "text/x-python",
   "name": "python",
   "nbconvert_exporter": "python",
   "pygments_lexer": "ipython3",
   "version": "3.10.9"
  },
  "orig_nbformat": 4
 },
 "nbformat": 4,
 "nbformat_minor": 2
}
